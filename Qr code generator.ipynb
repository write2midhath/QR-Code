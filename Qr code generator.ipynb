{
 "cells": [
  {
   "cell_type": "code",
   "execution_count": null,
   "metadata": {},
   "outputs": [],
   "source": [
    "!pip install qrcode[pil]"
   ]
  },
  {
   "cell_type": "code",
   "execution_count": 2,
   "metadata": {},
   "outputs": [],
   "source": [
    "import qrcode as qrc"
   ]
  },
  {
   "cell_type": "markdown",
   "metadata": {},
   "source": [
    "## Simple QR"
   ]
  },
  {
   "cell_type": "code",
   "execution_count": 5,
   "metadata": {},
   "outputs": [],
   "source": [
    "img = qrc.make(\"my name is midhath\")\n",
    "img.save('name.png')"
   ]
  },
  {
   "cell_type": "markdown",
   "metadata": {},
   "source": [
    "## From input"
   ]
  },
  {
   "cell_type": "code",
   "execution_count": 9,
   "metadata": {},
   "outputs": [],
   "source": [
    "name = input('name: ')\n",
    "phone = input(\"phone: \")\n",
    "contact = f'Name: {name}\\nPhone: {phone}'\n",
    "img = qrc.make(contact)\n",
    "\n",
    "\n",
    "img.save('contact.png')"
   ]
  },
  {
   "cell_type": "markdown",
   "metadata": {},
   "source": [
    "## Modification of the Box"
   ]
  },
  {
   "cell_type": "code",
   "execution_count": 8,
   "metadata": {},
   "outputs": [],
   "source": [
    "qr = qrc.QRCode(\n",
    "    version = 1,\n",
    "    box_size = 10,\n",
    "    border = 4\n",
    ")\n",
    "qr.add_data(contact)\n",
    "qr.make(fit=True)\n",
    "\n",
    "img2 = qr.make_image(fill = 'black', back_color = 'yellow')\n",
    "img2.save('fancyqr.png')"
   ]
  },
  {
   "cell_type": "markdown",
   "metadata": {},
   "source": [
    "## all together"
   ]
  },
  {
   "cell_type": "code",
   "execution_count": 11,
   "metadata": {},
   "outputs": [],
   "source": [
    "#data input and binding\n",
    "name = input('name: ')\n",
    "phone = input(\"phone: \")\n",
    "midhath = f'Name: {name}\\nPhone: {phone}'\n",
    "\n",
    "#modifiying data\n",
    "qr = qrc.QRCode(\n",
    "    version = 1,\n",
    "    box_size = 10,\n",
    "    border = 4\n",
    ")\n",
    "\n",
    "#passing data with style\n",
    "qr.add_data(midhath)\n",
    "qr.make(fit=True)\n",
    "\n",
    "#creating the QR as image\n",
    "image = qr.make_image(fill = 'black', back_color = 'yellow')\n",
    "image.save('midhathqr.png')"
   ]
  },
  {
   "cell_type": "markdown",
   "metadata": {},
   "source": [
    "## the GUI App"
   ]
  },
  {
   "cell_type": "code",
   "execution_count": 1,
   "metadata": {},
   "outputs": [],
   "source": [
    "from tkinter import *\n",
    "import tkinter as tk\n",
    "from tkinter import messagebox\n"
   ]
  },
  {
   "cell_type": "code",
   "execution_count": null,
   "metadata": {},
   "outputs": [],
   "source": [
    "from tkinter import *\n",
    "import tkinter as tk\n",
    "from tkinter import messagebox\n",
    "\n",
    "root = Tk()\n",
    "root.geometry('900x500')\n",
    "root.configure(bg = '#AE2321')\n",
    "root.title('QR Generator')\n",
    "root.resizable(False,False)\n",
    "\n",
    "Label(root, Text = 'Title', fg = 'white', bg ='#AE2321', font = 15).place(x=50, y=170)\n",
    "\n",
    "title = Entry(root, width=13, font='arial 15')\n",
    "title.place(x=50,y=200)\n",
    "\n",
    "title = Entry(root, width=28, font='arial 15')\n",
    "title.place(x=50,y=250)\n",
    "\n",
    "Button(root, text= 'Generate', width=20,height=2, bf='black',fg='white').place(x=50,y=300)\n",
    "\n",
    "root.mainloop()\n"
   ]
  },
  {
   "cell_type": "code",
   "execution_count": null,
   "metadata": {},
   "outputs": [],
   "source": []
  }
 ],
 "metadata": {
  "kernelspec": {
   "display_name": "Python 3.9.12 ('base')",
   "language": "python",
   "name": "python3"
  },
  "language_info": {
   "codemirror_mode": {
    "name": "ipython",
    "version": 3
   },
   "file_extension": ".py",
   "mimetype": "text/x-python",
   "name": "python",
   "nbconvert_exporter": "python",
   "pygments_lexer": "ipython3",
   "version": "3.9.12"
  },
  "orig_nbformat": 4,
  "vscode": {
   "interpreter": {
    "hash": "6d9a2f6a8d5b2d61f3d63b4e6547be80f2ef52955d5daa9bf6477fe13201ade7"
   }
  }
 },
 "nbformat": 4,
 "nbformat_minor": 2
}
